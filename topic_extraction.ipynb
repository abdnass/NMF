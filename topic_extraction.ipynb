{
 "cells": [
  {
   "attachments": {},
   "cell_type": "markdown",
   "metadata": {},
   "source": [
    "# Non-negative Matrix Factorization applied to Topic Extraction\n",
    "\n",
    "<img src=\"https://miro.medium.com/max/1100/1*ru1Ek9T3FjkehDkD8FZoHQ.webp\" style=\"max-height:500px\">\n",
    "\n",
    "NMF alongside with Latent-Dirichlet-Allocation and Neural Networks is a popular choice for topic extraction, where one tries to find which document belongs to which category and extract a collection of the most meaningful words of each associated topic.\n",
    "\n",
    "We will use a popular dataset on posts from 20 different newsgroups on specific topics and try to extract these from the randomized collection of all posts using NMF. To see how it performed we will compare the model to the most frequent words from each topic."
   ]
  },
  {
   "cell_type": "code",
   "execution_count": 1,
   "metadata": {},
   "outputs": [],
   "source": [
    "import numpy as np\n",
    "import scipy.sparse as sp\n",
    "\n",
    "from matplotlib import pyplot as plt\n",
    "import plotly.graph_objects as go\n",
    "\n",
    "from nltk import word_tokenize, pos_tag, download\n",
    "from nltk.stem import WordNetLemmatizer\n",
    "from nltk.corpus import stopwords, wordnet\n",
    "\n",
    "from sklearn.datasets import fetch_20newsgroups\n",
    "from sklearn.decomposition import NMF\n",
    "from sklearn.feature_extraction.text import TfidfVectorizer\n",
    "from sklearn.metrics import explained_variance_score, silhouette_score\n",
    "from sklearn.preprocessing import normalize\n",
    "\n",
    "from gensim.corpora import Dictionary\n",
    "from gensim.models.coherencemodel import CoherenceModel"
   ]
  },
  {
   "cell_type": "code",
   "execution_count": 2,
   "metadata": {},
   "outputs": [],
   "source": [
    "# parameters\n",
    "NUM_TOP_WORDS = 10\n",
    "RANDOM_STATE = 0"
   ]
  },
  {
   "cell_type": "code",
   "execution_count": 3,
   "metadata": {},
   "outputs": [
    {
     "name": "stderr",
     "output_type": "stream",
     "text": [
      "[nltk_data] Downloading package wordnet to\n",
      "[nltk_data]     C:\\Users\\maxst\\AppData\\Roaming\\nltk_data...\n",
      "[nltk_data]   Package wordnet is already up-to-date!\n",
      "[nltk_data] Downloading package omw-1.4 to\n",
      "[nltk_data]     C:\\Users\\maxst\\AppData\\Roaming\\nltk_data...\n",
      "[nltk_data]   Package omw-1.4 is already up-to-date!\n",
      "[nltk_data] Downloading package punkt to\n",
      "[nltk_data]     C:\\Users\\maxst\\AppData\\Roaming\\nltk_data...\n",
      "[nltk_data]   Package punkt is already up-to-date!\n",
      "[nltk_data] Downloading package averaged_perceptron_tagger to\n",
      "[nltk_data]     C:\\Users\\maxst\\AppData\\Roaming\\nltk_data...\n",
      "[nltk_data]   Package averaged_perceptron_tagger is already up-to-\n",
      "[nltk_data]       date!\n",
      "[nltk_data] Downloading package stopwords to\n",
      "[nltk_data]     C:\\Users\\maxst\\AppData\\Roaming\\nltk_data...\n",
      "[nltk_data]   Package stopwords is already up-to-date!\n"
     ]
    },
    {
     "data": {
      "text/plain": [
       "True"
      ]
     },
     "execution_count": 3,
     "metadata": {},
     "output_type": "execute_result"
    }
   ],
   "source": [
    "# download relevant nltk datasets\n",
    "download(\"wordnet\")\n",
    "download(\"omw-1.4\")\n",
    "download(\"punkt\")\n",
    "download(\"averaged_perceptron_tagger\")\n",
    "download(\"stopwords\")"
   ]
  },
  {
   "attachments": {},
   "cell_type": "markdown",
   "metadata": {},
   "source": [
    "### Data Preparation\n",
    "\n",
    "A typical workflow to preprocess document data for topic extraction is the following:\n",
    "\n",
    "- Tokenizing, meaning to create a list of words instead of just a long string\n",
    "- Stripping whitespace, special characters and maybe numbers from the tokens\n",
    "- Removing common words, like \"the\", \"of\", etc.\n",
    "- Potentially only keeping nouns, verbs, adjectives, etc.\n",
    "- Removing plural endings, verb conjugation and so on, this is called lemmatization or stemming\n",
    "- Filtering out extremes, like words that only appear in 1 document or more than half of them\n",
    "\n",
    "From the cleaned data one constructs the frequency matrix which associates the number of times a word appeared in a given document. In practice one does not usually use simple counts but actually the frequency of each term weighted by the inverse document frequency. So the ratio of how often a term appeared in a given document to how often in appeared in other documents."
   ]
  },
  {
   "cell_type": "code",
   "execution_count": 4,
   "metadata": {},
   "outputs": [],
   "source": [
    "# load dataset\n",
    "dataset = fetch_20newsgroups(\n",
    "    shuffle=True,\n",
    "    random_state=RANDOM_STATE,\n",
    "    remove=(\"headers\", \"footers\", \"quotes\"),\n",
    "    subset=\"all\",\n",
    ")\n",
    "\n",
    "num_topics = len(dataset.target_names)"
   ]
  },
  {
   "cell_type": "code",
   "execution_count": 5,
   "metadata": {},
   "outputs": [],
   "source": [
    "# preprocess data\n",
    "lemmatizer = WordNetLemmatizer()\n",
    "stop_words = set(stopwords.words(\"english\"))\n",
    "\n",
    "def get_pos(tag: str) -> str | None:\n",
    "    match tag[0]:\n",
    "        case \"J\":\n",
    "            return wordnet.ADJ\n",
    "        case \"R\":\n",
    "            return wordnet.ADV\n",
    "        case \"N\":\n",
    "            return wordnet.NOUN\n",
    "        case \"V\":\n",
    "            return wordnet.VERB\n",
    "        case _:\n",
    "            return None\n",
    "\n",
    "def preprocess(text: str) -> str:\n",
    "    tokens = [token for token in word_tokenize(text.lower())]\n",
    "    tagged = [(word, get_pos(tag)) for word, tag in pos_tag(tokens)]\n",
    "    lemmatized = [lemmatizer.lemmatize(word, pos=tag) for (word, tag) in tagged if tag is not None]\n",
    "    words = [word for word in lemmatized if len(word) > 2 and word not in stop_words and word.isalpha()]\n",
    "    return \" \".join(words)"
   ]
  },
  {
   "cell_type": "code",
   "execution_count": 6,
   "metadata": {},
   "outputs": [],
   "source": [
    "data = [preprocess(docs) for docs in dataset.data]"
   ]
  },
  {
   "cell_type": "code",
   "execution_count": 7,
   "metadata": {},
   "outputs": [],
   "source": [
    "# create problem matrix\n",
    "vectorizer = TfidfVectorizer(min_df=3, max_df=0.25, stop_words=\"english\", use_idf=True)\n",
    "A = vectorizer.fit_transform(data)\n",
    "docs = vectorizer.inverse_transform(A)"
   ]
  },
  {
   "cell_type": "code",
   "execution_count": 8,
   "metadata": {},
   "outputs": [
    {
     "name": "stdout",
     "output_type": "stream",
     "text": [
      "documents:           18846\n",
      "words:               22521\n",
      "non-zero entries:   864982 (0.20 %)\n"
     ]
    }
   ],
   "source": [
    "print(\"documents:          \", A.shape[0])\n",
    "print(\"words:              \", A.shape[1])\n",
    "print(\"non-zero entries:  \",  A.size, f\"({A.size/np.prod(A.shape)*100:.2f} %)\")\n"
   ]
  },
  {
   "attachments": {},
   "cell_type": "markdown",
   "metadata": {},
   "source": [
    "### Model Fitting\n",
    "\n",
    "With our matrix constructed we can now fit our NMF model with the given number of topics. By default the `sklearn` implementation uses the ALS algorithm and an initialization that uses the singular value decomposition instead of a random starting point. For the rank of the NMF we will use actual number of topics from the dataset which is 20."
   ]
  },
  {
   "cell_type": "code",
   "execution_count": 9,
   "metadata": {},
   "outputs": [],
   "source": [
    "# use NMF to decompose the document vectors into topic vectors\n",
    "nmf = NMF(\n",
    "    n_components=num_topics,\n",
    "    max_iter=1000,\n",
    "    random_state=RANDOM_STATE\n",
    ")\n",
    "W = nmf.fit_transform(A) # weights: document x topic\n",
    "H = nmf.components_ # hidden variables: topic x words"
   ]
  },
  {
   "attachments": {},
   "cell_type": "markdown",
   "metadata": {},
   "source": [
    "### Evaluation 1: Interpretation\n",
    "\n",
    "How good does our model perform? As a first step in evaluating a model is to look at its output. So let us see what topics NMF extracted by looking at the most frequent words of each."
   ]
  },
  {
   "cell_type": "code",
   "execution_count": 10,
   "metadata": {},
   "outputs": [],
   "source": [
    "def get_topics(H: np.ndarray) -> np.ndarray:\n",
    "    n = H.shape[0]\n",
    "    topics = np.zeros((n, NUM_TOP_WORDS), dtype=object)\n",
    "    for i in range(n):\n",
    "        top_indices = H[i].argsort()[:-NUM_TOP_WORDS-1:-1]\n",
    "        topics[i] = vectorizer.get_feature_names_out()[top_indices]\n",
    "    return topics"
   ]
  },
  {
   "cell_type": "code",
   "execution_count": 11,
   "metadata": {},
   "outputs": [
    {
     "name": "stdout",
     "output_type": "stream",
     "text": [
      "Topic  1: good year time bike look make thing lot way really\n",
      "Topic  2: window run font application manager driver windows version microsoft mouse\n",
      "Topic  3: game team win play player hockey baseball score fan espn\n",
      "Topic  4: drive scsi disk hard ide controller floppy boot meg seagate\n",
      "Topic  5: god jesus christian believe bible christ sin faith belief church\n",
      "Topic  6: program image graphic software display available code data color version\n",
      "Topic  7: card driver video monitor bus color mode vga diamond graphic\n",
      "Topic  8: key chip clipper encryption phone escrow algorithm number government secure\n",
      "Topic  9: car engine mile dealer buy ford owner oil driver tire\n",
      "Topic 10: post list send address mail read article group email question\n",
      "Topic 11: file format directory convert ftp gif disk postscript utility copy\n",
      "Topic 12: armenian turkish muslim genocide armenia turkey turk russian population massacre\n",
      "Topic 13: problem work try run machine fine port modem help fix\n",
      "Topic 14: price sale sell new offer buy include monitor shipping condition\n",
      "Topic 15: thanks advance appreciate info help look reply email information anybody\n",
      "Topic 16: people right gun government law state make crime fbi child\n",
      "Topic 17: know want let like anybody happen sure tell question appreciate\n",
      "Topic 18: say thing subject mean claim hear evidence word title really\n",
      "Topic 19: israel arab israeli jew jewish palestinian state kill war peace\n",
      "Topic 20: think really question mean answer wrong people come believe make\n"
     ]
    }
   ],
   "source": [
    "# top words from NMF extracted topics\n",
    "nmf_topics = get_topics(H)\n",
    "for i, words in enumerate(nmf_topics):\n",
    "    print(f\"Topic {i+1:2}:\", *words)"
   ]
  },
  {
   "attachments": {},
   "cell_type": "markdown",
   "metadata": {},
   "source": [
    "Since we know which document belongs to which topic we can actually construct the most frequent words for each real topic. There are some problems with this approach though. Firstly the topics from which the posts are taken may not actually the most ideal topics of this data and secondly the most frequent terms may not be the most meaningful ones. But nonetheless it will still be helpful to have something to compare the results to."
   ]
  },
  {
   "cell_type": "code",
   "execution_count": 12,
   "metadata": {},
   "outputs": [],
   "source": [
    "# construct (topic x words) matrix of most common words\n",
    "topic_docs = [\"\"] * num_topics\n",
    "for i, doc in enumerate(docs):\n",
    "    topic_docs[dataset.target[i]] += \" \".join(doc) + \" \"\n",
    "real_H = vectorizer.transform(topic_docs).toarray()"
   ]
  },
  {
   "cell_type": "code",
   "execution_count": 13,
   "metadata": {},
   "outputs": [
    {
     "name": "stdout",
     "output_type": "stream",
     "text": [
      "             alt.atheism | say god atheist people think make religion believe thing claim\n",
      "           comp.graphics | graphic image file program thanks know format look need help\n",
      " comp.os.ms-windows.misc | window file driver run windows program thanks problem version work\n",
      "comp.sys.ibm.pc.hardware | card drive thanks controller ide problem work know bus disk\n",
      "   comp.sys.mac.hardware | mac apple problem thanks drive know work monitor buy machine\n",
      "          comp.windows.x | window server run thanks display application program problem widget file\n",
      "            misc.forsale | sale offer sell shipping condition include price new interested email\n",
      "               rec.autos | car engine buy drive good think know ford new look\n",
      "         rec.motorcycles | bike ride dod motorcycle rid think make good know rider\n",
      "      rec.sport.baseball | game baseball team year player pitcher hit pitch play win\n",
      "        rec.sport.hockey | game team hockey play playoff player win nhl season goal\n",
      "               sci.crypt | key encryption clipper chip government nsa algorithm security secure phone\n",
      "         sci.electronics | circuit know work make power need want look good voltage\n",
      "                 sci.med | doctor patient know disease cause medical treatment medicine effect time\n",
      "               sci.space | space orbit launch nasa shuttle earth mission moon think time\n",
      "  soc.religion.christian | god christian jesus christ church say bible believe people know\n",
      "      talk.politics.guns | gun weapon people fbi make firearm law say right government\n",
      "   talk.politics.mideast | israel israeli arab people jew muslim armenian war kill say\n",
      "      talk.politics.misc | people say government state make think right law time know\n",
      "      talk.religion.misc | god say christian jesus people think make bible know believe\n"
     ]
    }
   ],
   "source": [
    "# most common words in each topic\n",
    "real_topics = get_topics(real_H)\n",
    "for i, words in enumerate(real_topics):\n",
    "    print(dataset.target_names[i].rjust(24), \"|\", *words)"
   ]
  },
  {
   "attachments": {},
   "cell_type": "markdown",
   "metadata": {},
   "source": [
    "### Evaluation 2: Visualization\n",
    "\n",
    "We can actually visualize the difference of these \"ground truth\" topics and the extracted topics from NMF. By using the Jaccard distance we can plot the differce as a heatmap. The Jaccard distance measures the dissimilarity between sample sets. Other measures can be used as well like cosine similarity."
   ]
  },
  {
   "cell_type": "code",
   "execution_count": 14,
   "metadata": {},
   "outputs": [],
   "source": [
    "jaccard_dist = np.zeros((num_topics, num_topics))\n",
    "annotation = np.zeros((num_topics, num_topics), dtype=object)\n",
    "\n",
    "for i in range(num_topics):\n",
    "    for j in range(num_topics):\n",
    "        rows = np.vstack([real_H[i], H[j]])\n",
    "        jaccard_dist[i, j] = 1 - np.sum(np.min(rows, axis=0)) / np.sum(np.max(rows, axis=0))\n",
    "        int_words = [word for word in nmf_topics[j] if word in real_topics[i]]\n",
    "        diff_words = [word for word in nmf_topics[j] if word not in real_topics[i]]\n",
    "        annotation[i, j] = f\"most common: {', '.join(int_words)}<br>not most common: {', '.join(diff_words)}\""
   ]
  },
  {
   "cell_type": "code",
   "execution_count": 15,
   "metadata": {},
   "outputs": [],
   "source": [
    "# interactive heatmap plot\n",
    "heatmap = go.Heatmap(\n",
    "    y=dataset.target_names,\n",
    "    z=jaccard_dist,\n",
    "    text=annotation,\n",
    "    colorscale=\"cividis_r\",\n",
    "    showscale=False,\n",
    ")\n",
    "layout = go.Layout(\n",
    "    title=\"Jaccard distance of real topics to extracted topics\",\n",
    "    xaxis=dict(title=\"NMF topics\"),\n",
    "    width=760,\n",
    "    height=700,\n",
    "    \n",
    ")\n",
    "fig = go.Figure(data=heatmap, layout=layout)\n",
    "fig.show(renderer=\"browser\")"
   ]
  },
  {
   "attachments": {},
   "cell_type": "markdown",
   "metadata": {},
   "source": [
    "### Evaluation 3: Quantitative Measure\n",
    "\n",
    "To get a number on the quality of the extraction we can use a coherence measure. A coherence measure tries to quantify the semantic similarity between words in the same topic and there are several such measures."
   ]
  },
  {
   "cell_type": "code",
   "execution_count": 16,
   "metadata": {},
   "outputs": [
    {
     "name": "stdout",
     "output_type": "stream",
     "text": [
      "Coherence score of NMF extracted topics: 0.773025009609037\n",
      "Coherence score of most frequent words:  0.7346639782345233\n"
     ]
    }
   ],
   "source": [
    "dictionary = Dictionary(docs)\n",
    "\n",
    "nmf_coherence = CoherenceModel(topics=nmf_topics, texts=docs, dictionary=dictionary, coherence=\"c_v\")\n",
    "print(\"Coherence score of NMF extracted topics:\", nmf_coherence.get_coherence())\n",
    "\n",
    "true_coherence = CoherenceModel(topics=real_topics, texts=docs, dictionary=dictionary, coherence=\"c_v\")\n",
    "print(\"Coherence score of most frequent words: \", true_coherence.get_coherence())"
   ]
  },
  {
   "attachments": {},
   "cell_type": "markdown",
   "metadata": {},
   "source": [
    "A value above 0.5 is very good and reflects the quality of the topics that we expected from our interpretation. The most frequent words also score highly altough not as high as the NMF, which is not contradictory since the most frequent words may not be the most meaningful."
   ]
  },
  {
   "attachments": {},
   "cell_type": "markdown",
   "metadata": {},
   "source": [
    "# Cain's Jawbone\n",
    "\n",
    "Cain's Jawbone is one of the hardest word puzzles ever devised. The goal is to solve the murder mystery by finding the 6 victims and their 6 murderers. But the twist is that the 100 pages are in a random order and one has to find the correct order as well.\n",
    "\n",
    "We will try to use topic extraction to help us get started with this puzzle."
   ]
  },
  {
   "cell_type": "code",
   "execution_count": 17,
   "metadata": {},
   "outputs": [],
   "source": [
    "# load pages\n",
    "with open(\"cains_jawbone.txt\", \"r\", encoding=\"utf-8\") as f:\n",
    "    pages = f.read().split(\"\\n\\n\")\n",
    "\n",
    "# preprocess data\n",
    "data = [preprocess(page) for page in pages]\n",
    "\n",
    "# create document x word frequency matrix\n",
    "vectorizer = TfidfVectorizer(stop_words=\"english\")\n",
    "A = vectorizer.fit_transform(data)\n",
    "docs = vectorizer.inverse_transform(A)"
   ]
  },
  {
   "cell_type": "code",
   "execution_count": 18,
   "metadata": {},
   "outputs": [
    {
     "name": "stdout",
     "output_type": "stream",
     "text": [
      "documents:          100\n",
      "words:             2966\n",
      "non-zero entries:  5920 (2.00 %)\n"
     ]
    }
   ],
   "source": [
    "print(\"documents:         \", A.shape[0])\n",
    "print(\"words:            \", A.shape[1])\n",
    "print(\"non-zero entries: \", A.size, f\"({A.size/np.prod(A.shape)*100:.2f} %)\")"
   ]
  },
  {
   "attachments": {},
   "cell_type": "markdown",
   "metadata": {},
   "source": [
    "As there are 6 murderers so a natural choice would be to find 6 topics, or rather narratives, as the rank of the decomposition. But even without that knowledge we may still be able to find a suitable candidate for the inner rank using the following ideas.\n",
    "\n",
    "The first would be to simply use the reconstruction error of the decomposition, which measures the difference of our problem matrix and the product of our decomposition, i.e. the value of the objective function. But as we see in the plot below, it just decreases with an increasing rank so it is not helpful.\n",
    "\n",
    "Another idea would be to look at the singular values of the matrix and see at which point they are close enough to zero so that we can truncate at that point. Unfortunately in this case they do not decay towards zero quickly enough to be meaningful.\n",
    "\n",
    "As we have seen above in the plot of the coherence measure we may be able to identify a point of diminishing returns.\n",
    "\n",
    "Similarly in practice one often uses explained variance and the silhouette score to evaluate models. The former is the proportion of the total variance in the data that is \"explained\" by the model. The silhouette score comes from the evaluation of clusters and measures how similar each point is to its own cluster, here that means how similar a document is to other documents of the same topic."
   ]
  },
  {
   "cell_type": "code",
   "execution_count": 19,
   "metadata": {},
   "outputs": [],
   "source": [
    "ranks = np.arange(1, 20)\n",
    "normA = sp.linalg.norm(A)\n",
    "V = A.toarray()\n",
    "dictionary = Dictionary(docs)\n",
    "\n",
    "reconstruction_errors = []\n",
    "silhouette_scores = []\n",
    "coherence_scores = []\n",
    "sparsities = []\n",
    "explained_variances = []\n",
    "\n",
    "for r in ranks:\n",
    "    nmf = NMF(n_components=r, max_iter=10000, random_state=RANDOM_STATE)\n",
    "    W = nmf.fit_transform(A)\n",
    "    H = nmf.components_\n",
    "    prediction = nmf.inverse_transform(W)\n",
    "    \n",
    "    reconstruction_errors.append(nmf.reconstruction_err_ / normA)\n",
    "    if r >= 2:\n",
    "        silhouette_scores.append(silhouette_score(normalize(W), labels=np.argmax(W, axis=1)))\n",
    "    topics = [vectorizer.get_feature_names_out()[H[i].argsort()[:-NUM_TOP_WORDS-1:-1]] for i in range(r)]\n",
    "    CM = CoherenceModel(topics=topics, texts=docs, dictionary=dictionary, coherence=\"c_v\")\n",
    "    coherence_scores.append(CM.get_coherence())\n",
    "    sparsities.append(1 - np.sum(prediction!=0) / prediction.size)\n",
    "    explained_variances.append(explained_variance_score(A.toarray(), prediction))\n"
   ]
  },
  {
   "cell_type": "code",
   "execution_count": 27,
   "metadata": {},
   "outputs": [
    {
     "data": {
      "image/png": "[encoded data removed]",
      "text/plain": [
       "<Figure size 640x480 with 1 Axes>"
      ]
     },
     "metadata": {},
     "output_type": "display_data"
    }
   ],
   "source": [
    "plt.plot(ranks, reconstruction_errors, label=\"relative reconstruction error\")\n",
    "plt.plot(ranks[1:], silhouette_scores, label=\"silhoutte score\")\n",
    "plt.plot(ranks, coherence_scores, label=\"coherence score\")\n",
    "plt.plot(ranks, sparsities, label=\"sparsity\")\n",
    "plt.plot(ranks, explained_variances, label=\"explained variance\")\n",
    "\n",
    "plt.xlabel(\"rank of decomposition\")\n",
    "plt.xticks(ranks)\n",
    "plt.legend(bbox_to_anchor=(1,1), loc=\"upper left\")\n",
    "plt.show()"
   ]
  },
  {
   "attachments": {},
   "cell_type": "markdown",
   "metadata": {},
   "source": [
    "From the above plot we would conclude that the rank should be in the range from 5 to 8.\n",
    "\n",
    "Combined with the knowledge that there are 6 murderers, we think that 6 is also a good value for the rank of the NMF."
   ]
  },
  {
   "cell_type": "code",
   "execution_count": 21,
   "metadata": {},
   "outputs": [],
   "source": [
    "num_narratives = 6"
   ]
  },
  {
   "cell_type": "code",
   "execution_count": 22,
   "metadata": {},
   "outputs": [],
   "source": [
    "# use NMF to decompose the document vectors into topic vectors\n",
    "nmf = NMF(\n",
    "    n_components=num_narratives,\n",
    "    max_iter=1000,\n",
    "    random_state=RANDOM_STATE\n",
    ")\n",
    "W = nmf.fit_transform(A) # weights: document x topic\n",
    "H = nmf.components_ # hidden variables: topic x words"
   ]
  },
  {
   "cell_type": "code",
   "execution_count": 23,
   "metadata": {},
   "outputs": [
    {
     "name": "stdout",
     "output_type": "stream",
     "text": [
      "Narrative 1: 19 27 32 39 46 64 65 75 77 80 92\n",
      "Narrative 2: 2 7 9 18 21 38 45 47 56 63 69 78 87\n",
      "Narrative 3: 11 23 26 28 29 35 37 52 53 55 58 68 70 73 74 88 89 98\n",
      "Narrative 4: 1 3 10 13 20 24 25 30 31 34 41 48 57 62 71 76 79 81 84 86 93 96 99\n",
      "Narrative 5: 4 5 12 15 16 17 22 33 40 42 43 44 51 54 60 61 67 72 82 83 91 97\n",
      "Narrative 6: 0 6 8 14 36 49 50 59 66 85 90 94 95\n"
     ]
    }
   ],
   "source": [
    "narratives = [[page for page in range(len(data)) if np.argmax(W, axis=1)[page] == j] for j in range(num_narratives)]\n",
    "for i, pages in enumerate(narratives):\n",
    "    print(f\"Narrative {i+1}:\", *pages)"
   ]
  },
  {
   "attachments": {},
   "cell_type": "markdown",
   "metadata": {},
   "source": [
    "The number of possible arrangements of these 100 pages is $100! \\approx 10^{158}$. By extracting the different narratives we have reduced this number to:"
   ]
  },
  {
   "cell_type": "code",
   "execution_count": 25,
   "metadata": {},
   "outputs": [
    {
     "name": "stdout",
     "output_type": "stream",
     "text": [
      "number of permutations: 1.94e+25\n"
     ]
    }
   ],
   "source": [
    "permutations = np.math.factorial(num_narratives) * np.sum(list(map(np.math.factorial, map(len, narratives))))\n",
    "print(f\"number of permutations: {permutations:.2e}\")"
   ]
  },
  {
   "attachments": {},
   "cell_type": "markdown",
   "metadata": {},
   "source": [
    "Which is an improvement of 133 orders of magnitude!\n",
    "\n",
    "So now we are left with the easy part of reading through these narratives and extracting the victims and murderers."
   ]
  },
  {
   "attachments": {},
   "cell_type": "markdown",
   "metadata": {},
   "source": [
    "Our Github repository: [https://github.com/maxstolly/Data-Science-Seminar](https://github.com/maxstolly/Data-Science-Seminar)\n",
    "\n",
    "Used resources:\n",
    "- [NMF — A visual explainer and Python Implementation - Garla (2021)](https://towardsdatascience.com/nmf-a-visual-explainer-and-python-implementation-7ecdd73491f8)\n",
    "- [Topic extraction with Non-negative Matrix Factorization and Latent Dirichlet Allocation - Grisel et al](https://scikit-learn.org/stable/auto_examples/applications/plot_topics_extraction_with_nmf_lda.html)\n",
    "- [Exploring the Space of Topic Coherence Measures - Röder et al (2015)](http://svn.aksw.org/papers/2015/WSDM_Topic_Evaluation/public.pdf)\n",
    "- [How to compare LDA models - Radim Řehůřek](https://radimrehurek.com/gensim/auto_examples/howtos/run_compare_lda.html)\n",
    "- [ChatGPT: Optimizing Language Models for Dialogue](https://openai.com/blog/chatgpt/)\n"
   ]
  }
 ],
 "metadata": {
  "kernelspec": {
   "display_name": ".venv",
   "language": "python",
   "name": "python3"
  },
  "language_info": {
   "codemirror_mode": {
    "name": "ipython",
    "version": 3
   },
   "file_extension": ".py",
   "mimetype": "text/x-python",
   "name": "python",
   "nbconvert_exporter": "python",
   "pygments_lexer": "ipython3",
   "version": "3.11.1"
  },
  "orig_nbformat": 4,
  "vscode": {
   "interpreter": {
    "hash": "d6396b84dbb0bbcdd3f80d1a3f757387d1ef06d58d64cf01bd65fd4701daa393"
   }
  }
 },
 "nbformat": 4,
 "nbformat_minor": 2
}

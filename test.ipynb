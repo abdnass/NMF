{
 "cells": [
  {
   "cell_type": "code",
   "execution_count": 45,
   "metadata": {},
   "outputs": [],
   "source": [
    "from matplotlib import pyplot as plt\n",
    "\n",
    "from nltk import word_tokenize, pos_tag, download\n",
    "from nltk.stem import WordNetLemmatizer\n",
    "\n",
    "import numpy as np\n",
    "\n",
    "from sklearn.datasets import fetch_20newsgroups\n",
    "from sklearn.feature_extraction.text import TfidfVectorizer\n",
    "from sklearn.decomposition import NMF\n",
    "\n",
    "from time import perf_counter"
   ]
  },
  {
   "cell_type": "code",
   "execution_count": 42,
   "metadata": {},
   "outputs": [],
   "source": [
    "# parameters\n",
    "N_DOCS = -1 # all documents (takes a while to preprocess!)\n",
    "N_TOPICS = 20 # number of topics to extract (rank)\n",
    "SOLVER = \"cd\" # NMF solver\n",
    "INIT = \"nndsvda\" # initialization method\n",
    "MAX_ITER = 1000 # number of iterations in the NMF\n",
    "N_TOP_WORDS = 10 # number of words to display for each topic\n",
    "RANDOM_STATE = 0 # for reproducability"
   ]
  },
  {
   "cell_type": "code",
   "execution_count": 33,
   "metadata": {},
   "outputs": [
    {
     "name": "stderr",
     "output_type": "stream",
     "text": [
      "[nltk_data] Downloading package wordnet to /home/max/nltk_data...\n",
      "[nltk_data]   Package wordnet is already up-to-date!\n",
      "[nltk_data] Downloading package omw-1.4 to /home/max/nltk_data...\n",
      "[nltk_data]   Package omw-1.4 is already up-to-date!\n",
      "[nltk_data] Downloading package punkt to /home/max/nltk_data...\n",
      "[nltk_data]   Package punkt is already up-to-date!\n",
      "[nltk_data] Downloading package averaged_perceptron_tagger to\n",
      "[nltk_data]     /home/max/nltk_data...\n",
      "[nltk_data]   Package averaged_perceptron_tagger is already up-to-\n",
      "[nltk_data]       date!\n"
     ]
    },
    {
     "data": {
      "text/plain": [
       "True"
      ]
     },
     "execution_count": 33,
     "metadata": {},
     "output_type": "execute_result"
    }
   ],
   "source": [
    "# download relevant nltk datasets\n",
    "download(\"wordnet\")\n",
    "download(\"omw-1.4\")\n",
    "download(\"punkt\")\n",
    "download(\"averaged_perceptron_tagger\")"
   ]
  },
  {
   "cell_type": "code",
   "execution_count": 34,
   "metadata": {},
   "outputs": [],
   "source": [
    "# load dataset\n",
    "data, _ = fetch_20newsgroups(\n",
    "    shuffle=True,\n",
    "    random_state=RANDOM_STATE,\n",
    "    remove=(\"headers\", \"footers\", \"quotes\"),\n",
    "    return_X_y=True,\n",
    ")"
   ]
  },
  {
   "cell_type": "code",
   "execution_count": 35,
   "metadata": {},
   "outputs": [],
   "source": [
    "# preprocess data\n",
    "def preprocess(text: str) -> str:\n",
    "    tokens = word_tokenize(text.lower())\n",
    "    cleaned = [token for token in tokens if token.isalnum()]\n",
    "    nouns = [word for (word, pos) in pos_tag(cleaned) if pos in (\"NN\", \"NNS\", \"NNP\")]\n",
    "    lemmatizer = WordNetLemmatizer()\n",
    "    lemmatized = [lemmatizer.lemmatize(noun, pos=\"n\") for noun in nouns]\n",
    "    return \" \".join(lemmatized)\n",
    "\n",
    "data_pped = map(preprocess, data[:N_DOCS])"
   ]
  },
  {
   "cell_type": "code",
   "execution_count": 36,
   "metadata": {},
   "outputs": [],
   "source": [
    "# vectorize the documents using term frequency-inverse document frequency\n",
    "vectorizer = TfidfVectorizer(stop_words=\"english\")\n",
    "doc_vectors = vectorizer.fit_transform(data_pped)"
   ]
  },
  {
   "attachments": {},
   "cell_type": "markdown",
   "metadata": {},
   "source": [
    "### Extraction of the 20 Topics"
   ]
  },
  {
   "cell_type": "code",
   "execution_count": 37,
   "metadata": {},
   "outputs": [],
   "source": [
    "# use NMF to decompose the document vectors into topic vectors\n",
    "nmf = NMF(n_components=N_TOPICS, solver=SOLVER, init=INIT, random_state=RANDOM_STATE, max_iter=MAX_ITER)\n",
    "topic_vectors = nmf.fit_transform(doc_vectors)"
   ]
  },
  {
   "cell_type": "code",
   "execution_count": 38,
   "metadata": {},
   "outputs": [
    {
     "name": "stdout",
     "output_type": "stream",
     "text": [
      "Topic 0: people thing time group way government life question world child\n",
      "Topic 1: window manager application font program server memory screen version display\n",
      "Topic 2: drive disk scsi controller hd mac tape ide cable computer\n",
      "Topic 3: team player league season fan hockey run point baseball nhl\n",
      "Topic 4: chip key encryption clipper phone algorithm government escrow security bit\n",
      "Topic 5: card video bus slot memory port controller pc ram mode\n",
      "Topic 6: car engine dealer mile price model owner speed tire power\n",
      "Topic 7: thanks advance hi info anybody question reply help information response\n",
      "Topic 8: god jesus christian faith christ belief life religion word truth\n",
      "Topic 9: file directory format disk program ftp help utility image copy\n",
      "Topic 10: program space time data image code source software machine application\n",
      "Topic 11: problem error solution duo mouse apple machine screen help battery\n",
      "Topic 12: driver version printer mouse diamond bb site mode ftp device\n",
      "Topic 13: law gun right state government weapon crime case court amendment\n",
      "Topic 14: bank geb chastity skepticism intellect patient blood disease migraine doctor\n",
      "Topic 15: game baseball playoff espn night season tv wing hockey penalty\n",
      "Topic 16: list book price address number sale offer phone software mail\n",
      "Topic 17: bike motorcycle time thing mile course rider dod road advice\n",
      "Topic 18: monitor color screen apple vga display mac video image vram\n",
      "Topic 19: year month league lot season tax money model day brave\n"
     ]
    }
   ],
   "source": [
    "# print the topics with their most occuring words\n",
    "for topic_idx, topic in enumerate(nmf.components_):\n",
    "    top_words_idx = topic.argsort()[:-N_TOP_WORDS-1:-1]\n",
    "    top_words = [vectorizer.get_feature_names_out()[i] for i in top_words_idx]\n",
    "    print(f\"Topic {topic_idx}:\", *top_words)"
   ]
  },
  {
   "attachments": {},
   "cell_type": "markdown",
   "metadata": {},
   "source": [
    "### Solver comparison"
   ]
  },
  {
   "cell_type": "code",
   "execution_count": 46,
   "metadata": {},
   "outputs": [
    {
     "name": "stdout",
     "output_type": "stream",
     "text": [
      "reconstruction error for solver 'cd': 101.34793505032103 in 10.457680419000098 seconds.\n",
      "reconstruction error for solver 'mu': 101.36953914325987 in 6.725636825984111 seconds.\n"
     ]
    }
   ],
   "source": [
    "solvers = [\"cd\", \"mu\"]\n",
    "for i, solver in enumerate(solvers):\n",
    "    nmf = NMF(n_components=N_TOPICS, solver=solver, init=INIT, random_state=RANDOM_STATE, max_iter=MAX_ITER)\n",
    "    t0 = perf_counter()\n",
    "    nmf.fit_transform(doc_vectors)\n",
    "    t = perf_counter()\n",
    "    time = t - t0\n",
    "    print(f\"reconstruction error for solver '{solver}': {nmf.reconstruction_err_} in {time} seconds.\")"
   ]
  },
  {
   "attachments": {},
   "cell_type": "markdown",
   "metadata": {},
   "source": [
    "### Initialization comparison"
   ]
  },
  {
   "cell_type": "code",
   "execution_count": 44,
   "metadata": {},
   "outputs": [
    {
     "name": "stdout",
     "output_type": "stream",
     "text": [
      "reconstruction error for 'random': 101.37013310805062\n",
      "reconstruction error for 'nndsvd': 101.34793376680442\n",
      "reconstruction error for 'nndsvda': 101.34793505032103\n",
      "reconstruction error for 'nndsvdar': 101.3479350876765\n"
     ]
    }
   ],
   "source": [
    "inits = [\"random\", \"nndsvd\", \"nndsvda\", \"nndsvdar\"]\n",
    "for i, init in enumerate(inits):\n",
    "    nmf = NMF(n_components=N_TOPICS, solver=SOLVER, init=init, random_state=RANDOM_STATE, max_iter=MAX_ITER)\n",
    "    nmf.fit_transform(doc_vectors)\n",
    "    print(f\"reconstruction error for '{init}': {nmf.reconstruction_err_}\")"
   ]
  },
  {
   "attachments": {},
   "cell_type": "markdown",
   "metadata": {},
   "source": [
    "### Comparison of different ranks"
   ]
  },
  {
   "cell_type": "code",
   "execution_count": 26,
   "metadata": {},
   "outputs": [
    {
     "name": "stdout",
     "output_type": "stream",
     "text": [
      "Calculating rank  1 approximation...done.\n",
      "Calculating rank  2 approximation...done.\n",
      "Calculating rank  3 approximation...done.\n",
      "Calculating rank  4 approximation...done.\n",
      "Calculating rank  5 approximation...done.\n",
      "Calculating rank  6 approximation...done.\n",
      "Calculating rank  7 approximation...done.\n",
      "Calculating rank  8 approximation...done.\n",
      "Calculating rank  9 approximation...done.\n",
      "Calculating rank 10 approximation...done.\n",
      "Calculating rank 11 approximation...done.\n",
      "Calculating rank 12 approximation...done.\n",
      "Calculating rank 13 approximation...done.\n",
      "Calculating rank 14 approximation...done.\n",
      "Calculating rank 15 approximation...done.\n",
      "Calculating rank 16 approximation...done.\n",
      "Calculating rank 17 approximation...done.\n",
      "Calculating rank 18 approximation...done.\n",
      "Calculating rank 19 approximation...done.\n",
      "Calculating rank 20 approximation...done.\n",
      "Calculating rank 21 approximation...done.\n",
      "Calculating rank 22 approximation...done.\n",
      "Calculating rank 23 approximation...done.\n",
      "Calculating rank 24 approximation...done.\n",
      "Calculating rank 25 approximation...done.\n",
      "Calculating rank 26 approximation...done.\n",
      "Calculating rank 27 approximation...done.\n",
      "Calculating rank 28 approximation...done.\n",
      "Calculating rank 29 approximation...done.\n"
     ]
    }
   ],
   "source": [
    "ranks = np.arange(1, 26)\n",
    "errors = np.zeros(len(ranks))\n",
    "for i, rank in enumerate(ranks):\n",
    "    print(f\"Calculating rank {rank:2} approximation...\", end=\" \")\n",
    "    nmf = NMF(n_components=rank, solver=SOLVER, init=init, random_state=RANDOM_STATE, max_iter=MAX_ITER)\n",
    "    nmf.fit_transform(doc_vectors)\n",
    "    errors[i] = nmf.reconstruction_err_\n",
    "    print(\"done.\")"
   ]
  },
  {
   "cell_type": "code",
   "execution_count": 29,
   "metadata": {},
   "outputs": [
    {
     "data": {
      "image/png": "[encoded data removed]",
      "text/plain": [
       "<Figure size 640x480 with 1 Axes>"
      ]
     },
     "metadata": {},
     "output_type": "display_data"
    }
   ],
   "source": [
    "plt.plot(ranks, errors)\n",
    "plt.xlabel(\"NMF approximation rank\")\n",
    "plt.ylabel(\"reconstruction error\")\n",
    "plt.show()"
   ]
  },
  {
   "cell_type": "code",
   "execution_count": null,
   "metadata": {},
   "outputs": [],
   "source": []
  }
 ],
 "metadata": {
  "kernelspec": {
   "display_name": "Python 3.10.6 ('.venv': venv)",
   "language": "python",
   "name": "python3"
  },
  "language_info": {
   "codemirror_mode": {
    "name": "ipython",
    "version": 3
   },
   "file_extension": ".py",
   "mimetype": "text/x-python",
   "name": "python",
   "nbconvert_exporter": "python",
   "pygments_lexer": "ipython3",
   "version": "3.10.6"
  },
  "orig_nbformat": 4,
  "vscode": {
   "interpreter": {
    "hash": "5b17febcc4130c68f2e7b85053bd8c8c27371546629f37a51ccc1ae40fbbf6be"
   }
  }
 },
 "nbformat": 4,
 "nbformat_minor": 2
}

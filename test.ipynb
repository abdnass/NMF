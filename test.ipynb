{
 "cells": [
  {
   "cell_type": "code",
   "execution_count": 2,
   "metadata": {},
   "outputs": [],
   "source": [
    "from matplotlib import pyplot as plt\n",
    "\n",
    "from nltk import word_tokenize, pos_tag, download\n",
    "from nltk.stem import WordNetLemmatizer\n",
    "\n",
    "import numpy as np\n",
    "\n",
    "import scipy.sparse as sp\n",
    "\n",
    "from sklearn.datasets import fetch_20newsgroups\n",
    "from sklearn.decomposition import NMF\n",
    "from sklearn.feature_extraction.text import TfidfVectorizer, CountVectorizer\n",
    "from sklearn.metrics import explained_variance_score, r2_score\n",
    "\n",
    "from time import perf_counter\n",
    "\n",
    "from utils import perm_W, perm_H"
   ]
  },
  {
   "cell_type": "code",
   "execution_count": 3,
   "metadata": {},
   "outputs": [],
   "source": [
    "# parameters\n",
    "SOLVER = \"cd\" # NMF solver\n",
    "INIT = \"nndsvda\" # initialization method\n",
    "MAX_ITER = 1000 # number of iterations in the NMF\n",
    "N_TOP_WORDS = 10 # number of words to display for each topic\n",
    "RANDOM_STATE = 0 # for reproducability"
   ]
  },
  {
   "cell_type": "code",
   "execution_count": 4,
   "metadata": {},
   "outputs": [
    {
     "name": "stderr",
     "output_type": "stream",
     "text": [
      "[nltk_data] Downloading package wordnet to /home/max/nltk_data...\n",
      "[nltk_data]   Package wordnet is already up-to-date!\n",
      "[nltk_data] Downloading package omw-1.4 to /home/max/nltk_data...\n",
      "[nltk_data]   Package omw-1.4 is already up-to-date!\n",
      "[nltk_data] Downloading package punkt to /home/max/nltk_data...\n",
      "[nltk_data]   Package punkt is already up-to-date!\n",
      "[nltk_data] Downloading package averaged_perceptron_tagger to\n",
      "[nltk_data]     /home/max/nltk_data...\n",
      "[nltk_data]   Package averaged_perceptron_tagger is already up-to-\n",
      "[nltk_data]       date!\n"
     ]
    },
    {
     "data": {
      "text/plain": [
       "True"
      ]
     },
     "execution_count": 4,
     "metadata": {},
     "output_type": "execute_result"
    }
   ],
   "source": [
    "# download relevant nltk datasets\n",
    "download(\"wordnet\")\n",
    "download(\"omw-1.4\")\n",
    "download(\"punkt\")\n",
    "download(\"averaged_perceptron_tagger\")"
   ]
  },
  {
   "cell_type": "code",
   "execution_count": 5,
   "metadata": {},
   "outputs": [],
   "source": [
    "# load dataset\n",
    "dataset = fetch_20newsgroups(\n",
    "    shuffle=True,\n",
    "    random_state=RANDOM_STATE,\n",
    "    remove=(\"headers\", \"footers\", \"quotes\"),\n",
    ")\n",
    "\n",
    "n_topics = len(dataset.target_names)"
   ]
  },
  {
   "cell_type": "code",
   "execution_count": 6,
   "metadata": {},
   "outputs": [],
   "source": [
    "# preprocess data\n",
    "lemmatizer = WordNetLemmatizer()\n",
    "def preprocess(text: str) -> str:\n",
    "    tokens = word_tokenize(text.lower())\n",
    "    cleaned = [token for token in tokens if token.isalpha()]\n",
    "    nouns = [word for (word, pos) in pos_tag(cleaned) if pos in (\"NN\", \"NNS\", \"NNP\")]\n",
    "    lemmatized = [lemmatizer.lemmatize(noun, pos=\"n\") for noun in nouns]\n",
    "    return \" \".join(lemmatized)\n",
    "\n",
    "data = [preprocess(doc) for doc in dataset.data]"
   ]
  },
  {
   "attachments": {},
   "cell_type": "markdown",
   "metadata": {},
   "source": [
    "### Create term frequency matrix of data"
   ]
  },
  {
   "cell_type": "code",
   "execution_count": 7,
   "metadata": {},
   "outputs": [],
   "source": [
    "# vectorize the documents using term frequency * inverse document frequency\n",
    "vectorizer = TfidfVectorizer(stop_words=\"english\", use_idf=False)\n",
    "freq_matrix = vectorizer.fit_transform(data)"
   ]
  },
  {
   "cell_type": "code",
   "execution_count": 8,
   "metadata": {},
   "outputs": [
    {
     "name": "stderr",
     "output_type": "stream",
     "text": [
      "/home/max/Repos/Data-Science-Seminar/.venv/lib/python3.10/site-packages/scipy/sparse/_index.py:103: SparseEfficiencyWarning: Changing the sparsity structure of a csr_matrix is expensive. lil_matrix is more efficient.\n",
      "  self._set_intXint(row, col, x.flat[0])\n",
      "/home/max/Repos/Data-Science-Seminar/.venv/lib/python3.10/site-packages/scipy/sparse/linalg/_dsolve/linsolve.py:347: SparseEfficiencyWarning: splu converted its input to CSC format\n",
      "  warn('splu converted its input to CSC format', SparseEfficiencyWarning)\n",
      "/home/max/Repos/Data-Science-Seminar/.venv/lib/python3.10/site-packages/scipy/sparse/linalg/_dsolve/linsolve.py:239: SparseEfficiencyWarning: spsolve is more efficient when sparse b is in the CSC matrix format\n",
      "  warn('spsolve is more efficient when sparse b '\n"
     ]
    }
   ],
   "source": [
    "# construct actual factorization for error calculation\n",
    "\n",
    "# one-hot encoding for weights\n",
    "W_true_oh = sp.csr_matrix((dataset.target.size, n_topics))\n",
    "for i in range(W_true_oh.shape[0]):\n",
    "    W_true_oh[i, dataset.target[i]] = 1\n",
    "\n",
    "# topic documents to get topic term frequencies\n",
    "topic_docs = [\" \".join([doc for i, doc in enumerate(data) if j == dataset.target[i]]) for j in range(n_topics)]\n",
    "vectorizer = TfidfVectorizer(stop_words=\"english\")\n",
    "H_true_td = vectorizer.fit_transform(topic_docs)\n",
    "\n",
    "# least squares solution of factorization\n",
    "H_true_oh = sp.linalg.inv(W_true_oh.T @ W_true_oh) @ W_true_oh.T @ freq_matrix\n",
    "W_true_td = (sp.linalg.inv(H_true_td @ H_true_td.T) @ H_true_td @ freq_matrix.T).T\n",
    "\n",
    "# reconstruction\n",
    "X_true_oh = W_true_oh @ H_true_oh\n",
    "X_true_td = W_true_td @ H_true_td"
   ]
  },
  {
   "cell_type": "code",
   "execution_count": 9,
   "metadata": {},
   "outputs": [
    {
     "data": {
      "text/plain": [
       "<11314x37467 sparse matrix of type '<class 'numpy.float64'>'\n",
       "\twith 50930945 stored elements in Compressed Sparse Row format>"
      ]
     },
     "execution_count": 9,
     "metadata": {},
     "output_type": "execute_result"
    }
   ],
   "source": [
    "X_true_oh"
   ]
  },
  {
   "cell_type": "code",
   "execution_count": 12,
   "metadata": {},
   "outputs": [
    {
     "data": {
      "text/plain": [
       "(20, 20)"
      ]
     },
     "execution_count": 12,
     "metadata": {},
     "output_type": "execute_result"
    }
   ],
   "source": [
    "(W_true_oh.T @ W_true_oh).shape"
   ]
  },
  {
   "cell_type": "code",
   "execution_count": 10,
   "metadata": {},
   "outputs": [
    {
     "data": {
      "text/plain": [
       "<11314x37467 sparse matrix of type '<class 'numpy.float64'>'\n",
       "\twith 409814046 stored elements in Compressed Sparse Column format>"
      ]
     },
     "execution_count": 10,
     "metadata": {},
     "output_type": "execute_result"
    }
   ],
   "source": [
    "X_true_td"
   ]
  },
  {
   "cell_type": "code",
   "execution_count": 16,
   "metadata": {},
   "outputs": [
    {
     "ename": "",
     "evalue": "",
     "output_type": "error",
     "traceback": [
      "\u001b[1;31mCanceled future for execute_request message before replies were done"
     ]
    },
    {
     "ename": "",
     "evalue": "",
     "output_type": "error",
     "traceback": [
      "\u001b[1;31mThe Kernel crashed while executing code in the the current cell or a previous cell. Please review the code in the cell(s) to identify a possible cause of the failure. Click <a href='https://aka.ms/vscodeJupyterKernelCrash'>here</a> for more info. View Jupyter <a href='command:jupyter.viewOutput'>log</a> for further details."
     ]
    }
   ],
   "source": [
    "# reconstruction difference\n",
    "print(np.linalg.norm(X_true_oh - X_true_td))\n",
    "\n",
    "# reconstruction error\n",
    "print(np.linalg.norm(X_true_oh - freq_matrix))\n",
    "print(np.linalg.norm(X_true_td - freq_matrix))\n",
    "\n",
    "# difference\n",
    "print(np.linalg.norm(H_true_oh - H_true_td))\n",
    "print(np.linalg.norm(W_true_oh - W_true_td))"
   ]
  },
  {
   "cell_type": "code",
   "execution_count": null,
   "metadata": {},
   "outputs": [
    {
     "ename": "",
     "evalue": "",
     "output_type": "error",
     "traceback": [
      "\u001b[1;31mCanceled future for execute_request message before replies were done"
     ]
    },
    {
     "ename": "",
     "evalue": "",
     "output_type": "error",
     "traceback": [
      "\u001b[1;31mThe Kernel crashed while executing code in the the current cell or a previous cell. Please review the code in the cell(s) to identify a possible cause of the failure. Click <a href='https://aka.ms/vscodeJupyterKernelCrash'>here</a> for more info. View Jupyter <a href='command:jupyter.viewOutput'>log</a> for further details."
     ]
    }
   ],
   "source": [
    "explained_variance_score(X_oh, X_td)"
   ]
  },
  {
   "cell_type": "code",
   "execution_count": null,
   "metadata": {},
   "outputs": [],
   "source": [
    "def diff(Y_true, Y_pred) -> float:\n",
    "    return np.linalg.norm(Y_true - Y_pred, axis=1).mean()\n",
    "\n",
    "def recon_error(X_true, X_pred) -> float:\n",
    "    return np.linalg.norm(X_true - X_pred)\n",
    "\n",
    "def accuracy(W_pred) -> float:\n",
    "    return np.sum(np.argmax(W_pred, axis=1) == dataset.target) / len(dataset.target)\n",
    "\n",
    "def explained_variance(X_true, X_pred) -> float:\n",
    "    "
   ]
  },
  {
   "cell_type": "code",
   "execution_count": null,
   "metadata": {},
   "outputs": [
    {
     "name": "stdout",
     "output_type": "stream",
     "text": [
      "1.4067173100906858e-07\n",
      "0.0066155849780913005\n",
      "0.8725312413618992\n",
      "0.018959165649307386\n"
     ]
    }
   ],
   "source": [
    "# norm over topics\n",
    "norms = np.linalg.norm(H_true_oh - H_true_td, axis=0)\n",
    "print(norms.min())\n",
    "print(norms.mean())\n",
    "print(norms.max())\n",
    "print(norms.std())"
   ]
  },
  {
   "cell_type": "code",
   "execution_count": null,
   "metadata": {},
   "outputs": [
    {
     "name": "stdout",
     "output_type": "stream",
     "text": [
      "[0.01111386 0.03606985 0.00180376 ... 0.00047148 0.00103416 0.00212007]\n"
     ]
    }
   ],
   "source": [
    "print(norms)"
   ]
  },
  {
   "cell_type": "code",
   "execution_count": null,
   "metadata": {},
   "outputs": [
    {
     "name": "stdout",
     "output_type": "stream",
     "text": [
      "0.8225680916601698\n",
      "0.8686188019150295\n",
      "0.9704569167585207\n",
      "0.029426744315867018\n"
     ]
    }
   ],
   "source": [
    "# norm over terms\n",
    "norms = np.linalg.norm(H_true_oh - H_true_td, axis=1)\n",
    "print(norms.min())\n",
    "print(norms.mean())\n",
    "print(norms.max())\n",
    "print(norms.std())"
   ]
  },
  {
   "cell_type": "code",
   "execution_count": null,
   "metadata": {},
   "outputs": [
    {
     "name": "stdout",
     "output_type": "stream",
     "text": [
      "[0.87717364 0.87294567 0.97045692 0.83372931 0.84762502 0.86932731\n",
      " 0.863232   0.85349138 0.87345129 0.86368701 0.85050381 0.83923755\n",
      " 0.89748958 0.88035749 0.87864249 0.82256809 0.85423384 0.86418714\n",
      " 0.88328732 0.87674918]\n"
     ]
    }
   ],
   "source": [
    "print(norms)"
   ]
  },
  {
   "cell_type": "code",
   "execution_count": null,
   "metadata": {},
   "outputs": [
    {
     "data": {
      "text/plain": [
       "array([1., 1., 1., ..., 1., 1., 1.])"
      ]
     },
     "execution_count": 17,
     "metadata": {},
     "output_type": "execute_result"
    }
   ],
   "source": [
    "np.linalg.norm(W_true_oh, axis=1)"
   ]
  },
  {
   "attachments": {},
   "cell_type": "markdown",
   "metadata": {},
   "source": [
    "### Extraction of the 20 Topics"
   ]
  },
  {
   "cell_type": "code",
   "execution_count": null,
   "metadata": {},
   "outputs": [],
   "source": [
    "# use NMF to decompose the document vectors into topic vectors\n",
    "nmf = NMF(n_components=n_topics, solver=SOLVER, init=INIT, random_state=RANDOM_STATE, max_iter=MAX_ITER)\n",
    "W = nmf.fit_transform(freq_matrix) # weights\n",
    "H = nmf.components_ # hidden variables"
   ]
  },
  {
   "cell_type": "code",
   "execution_count": null,
   "metadata": {},
   "outputs": [
    {
     "name": "stdout",
     "output_type": "stream",
     "text": [
      "Topic 0: god jesus life christian word faith christ belief religion truth\n",
      "Topic 1: problem error solution monitor machine line screen apple idea memory\n",
      "Topic 2: year team lot league season player month money model guy\n",
      "Topic 3: thanks advance hi info anybody help reply information response email\n",
      "Topic 4: drive disk controller scsi computer mac tape power cable hd\n",
      "Topic 5: time week bit day life bike course month minute idea\n",
      "Topic 6: information book list lot group space day software source article\n",
      "Topic 7: people person world life lot group reason armenian point post\n",
      "Topic 8: thing sort lot course bike idea point kind bit fact\n",
      "Topic 9: card driver video monitor color mode bus port slot memory\n",
      "Topic 10: chip key encryption clipper phone bit government algorithm escrow data\n",
      "Topic 11: car price driver engine bike mile dealer model speed power\n",
      "Topic 12: window driver application version manager font memory screen server mouse\n",
      "Topic 13: file directory format image disk help site ftp copy pc\n",
      "Topic 14: question answer group course discussion faq response argument reason religion\n",
      "Topic 15: program help disk code error image university graphic job value\n",
      "Topic 16: way course point life idea bike world fact reason bit\n",
      "Topic 17: law government right state case gun fact country weapon crime\n",
      "Topic 18: number phone line player company dial order response unit gun\n",
      "Topic 19: game team player season point fan baseball hockey league playoff\n"
     ]
    }
   ],
   "source": [
    "# print the topics with their most occuring words\n",
    "for i in range(n_topics):\n",
    "    top_indices = H[i].argsort()[:-N_TOP_WORDS-1:-1]\n",
    "    top_words = vectorizer.get_feature_names_out()[top_indices]\n",
    "    print(f\"Topic {i}:\", *top_words)"
   ]
  },
  {
   "cell_type": "code",
   "execution_count": null,
   "metadata": {},
   "outputs": [
    {
     "name": "stderr",
     "output_type": "stream",
     "text": [
      "/home/max/Repos/Data-Science-Seminar/.venv/lib/python3.10/site-packages/sklearn/utils/validation.py:727: FutureWarning: np.matrix usage is deprecated in 1.0 and will raise a TypeError in 1.2. Please convert to a numpy array with np.asarray. For more information see: https://numpy.org/doc/stable/reference/generated/numpy.matrix.html\n",
      "  warnings.warn(\n"
     ]
    },
    {
     "ename": "",
     "evalue": "",
     "output_type": "error",
     "traceback": [
      "\u001b[1;31mCanceled future for execute_request message before replies were done"
     ]
    },
    {
     "ename": "",
     "evalue": "",
     "output_type": "error",
     "traceback": [
      "\u001b[1;31mThe Kernel crashed while executing code in the the current cell or a previous cell. Please review the code in the cell(s) to identify a possible cause of the failure. Click <a href='https://aka.ms/vscodeJupyterKernelCrash'>here</a> for more info. View Jupyter <a href='command:jupyter.viewOutput'>log</a> for further details."
     ]
    }
   ],
   "source": [
    "pred = nmf.inverse_transform(W)\n",
    "tru = freq_matrix.todense()\n",
    "print(r2_score(tru, pred))\n",
    "print(explained_variance_score(tru, pred))"
   ]
  },
  {
   "cell_type": "code",
   "execution_count": null,
   "metadata": {},
   "outputs": [],
   "source": [
    "def score(y_true, y_pred):\n",
    "    y_diff_avg = (y_true - y_pred).mean(0)\n",
    "    numerator = ((y_true - y_pred - y_diff_avg) ** 2).mean(0)\n",
    "    y_true_avg = y_true.mean(0)\n",
    "    denominator = ((y_true - y_true_avg) ** 2).mean(0)\n",
    "    return (1 - numerator / denominator).mean()"
   ]
  },
  {
   "cell_type": "code",
   "execution_count": null,
   "metadata": {},
   "outputs": [
    {
     "ename": "",
     "evalue": "",
     "output_type": "error",
     "traceback": [
      "\u001b[1;31mCanceled future for execute_request message before replies were done"
     ]
    },
    {
     "ename": "",
     "evalue": "",
     "output_type": "error",
     "traceback": [
      "\u001b[1;31mThe Kernel crashed while executing code in the the current cell or a previous cell. Please review the code in the cell(s) to identify a possible cause of the failure. Click <a href='https://aka.ms/vscodeJupyterKernelCrash'>here</a> for more info. View Jupyter <a href='command:jupyter.viewOutput'>log</a> for further details."
     ]
    }
   ],
   "source": [
    "score(freq_matrix, nmf.inverse_transform(W))"
   ]
  },
  {
   "attachments": {},
   "cell_type": "markdown",
   "metadata": {},
   "source": [
    "### Solver comparison"
   ]
  },
  {
   "cell_type": "code",
   "execution_count": null,
   "metadata": {},
   "outputs": [],
   "source": [
    "def score(model, data):\n",
    "    pred = model.inverse_transform(model.transform(data))\n",
    "    return explained_variance_score(data, pred)"
   ]
  },
  {
   "cell_type": "code",
   "execution_count": null,
   "metadata": {},
   "outputs": [
    {
     "name": "stdout",
     "output_type": "stream",
     "text": [
      "Solver 'cd':\n",
      "runtime = 2.3287573080160655 seconds\n",
      "reconstruction error = 1179.568869283379\n",
      "tfidf error = 86.38783584082277\n",
      "accuracy = 0.06461021742973308\n",
      "\n",
      "Solver 'mu':\n",
      "runtime = 11.101368566974998 seconds\n",
      "reconstruction error = 1180.1657794978644\n",
      "tfidf error = 83.64724718899461\n",
      "accuracy = 0.06646632490719463\n",
      "\n"
     ]
    }
   ],
   "source": [
    "solvers = [\"cd\", \"mu\"]\n",
    "for i, solver in enumerate(solvers):\n",
    "    nmf = NMF(n_components=n_topics, solver=solver, init=INIT, random_state=RANDOM_STATE, max_iter=MAX_ITER)\n",
    "    t0 = perf_counter()\n",
    "    weights = nmf.fit_transform(freq_matrix)\n",
    "    H = nmf.components_\n",
    "    t = perf_counter()\n",
    "    time = t - t0\n",
    "    top_words = [[]] * n_topics\n",
    "    for i in range(n_topics):\n",
    "        top_words_idx = H[i].argsort()[:-N_TOP_WORDS-1:-1]\n",
    "        top_words[i] = [vectorizer.get_feature_names_out()[j] for j in top_words_idx]\n",
    "\n",
    "    print(f\"Solver '{solver}':\")\n",
    "    print(f\"runtime = {time} seconds\")\n",
    "    print(f\"reconstruction error = {nmf.reconstruction_err_}\")\n",
    "    print(f\"tfidf error = {error(H)}\")\n",
    "    print(f\"accuracy = {accuracy(weights)}\", end=\"\\n\\n\")\n"
   ]
  },
  {
   "attachments": {},
   "cell_type": "markdown",
   "metadata": {},
   "source": [
    "### Initialization comparison"
   ]
  },
  {
   "cell_type": "code",
   "execution_count": null,
   "metadata": {},
   "outputs": [
    {
     "name": "stdout",
     "output_type": "stream",
     "text": [
      "reconstruction error for 'random': 101.37013310805062\n",
      "reconstruction error for 'nndsvd': 101.34793376680442\n",
      "reconstruction error for 'nndsvda': 101.34793505032103\n",
      "reconstruction error for 'nndsvdar': 101.3479350876765\n"
     ]
    }
   ],
   "source": [
    "inits = [\"random\", \"nndsvd\", \"nndsvda\", \"nndsvdar\"]\n",
    "for i, init in enumerate(inits):\n",
    "    nmf = NMF(n_components=N_TOPICS, solver=SOLVER, init=init, random_state=RANDOM_STATE, max_iter=MAX_ITER)\n",
    "    nmf.fit_transform(doc_vectors)\n",
    "    print(f\"reconstruction error for '{init}': {nmf.reconstruction_err_}\")"
   ]
  },
  {
   "attachments": {},
   "cell_type": "markdown",
   "metadata": {},
   "source": [
    "### Comparison of different ranks"
   ]
  },
  {
   "cell_type": "code",
   "execution_count": null,
   "metadata": {},
   "outputs": [
    {
     "name": "stdout",
     "output_type": "stream",
     "text": [
      "Calculating rank  1 approximation...done.\n",
      "Calculating rank  2 approximation...done.\n",
      "Calculating rank  3 approximation...done.\n",
      "Calculating rank  4 approximation...done.\n",
      "Calculating rank  5 approximation...done.\n",
      "Calculating rank  6 approximation...done.\n",
      "Calculating rank  7 approximation...done.\n",
      "Calculating rank  8 approximation...done.\n",
      "Calculating rank  9 approximation...done.\n",
      "Calculating rank 10 approximation...done.\n",
      "Calculating rank 11 approximation...done.\n",
      "Calculating rank 12 approximation...done.\n",
      "Calculating rank 13 approximation...done.\n",
      "Calculating rank 14 approximation...done.\n",
      "Calculating rank 15 approximation...done.\n",
      "Calculating rank 16 approximation...done.\n",
      "Calculating rank 17 approximation...done.\n",
      "Calculating rank 18 approximation...done.\n",
      "Calculating rank 19 approximation...done.\n",
      "Calculating rank 20 approximation...done.\n",
      "Calculating rank 21 approximation...done.\n",
      "Calculating rank 22 approximation...done.\n",
      "Calculating rank 23 approximation...done.\n",
      "Calculating rank 24 approximation...done.\n",
      "Calculating rank 25 approximation...done.\n",
      "Calculating rank 26 approximation...done.\n",
      "Calculating rank 27 approximation...done.\n",
      "Calculating rank 28 approximation...done.\n",
      "Calculating rank 29 approximation...done.\n"
     ]
    }
   ],
   "source": [
    "ranks = np.arange(1, 26)\n",
    "errors = np.zeros(len(ranks))\n",
    "for i, rank in enumerate(ranks):\n",
    "    print(f\"Calculating rank {rank:2} approximation...\", end=\" \")\n",
    "    nmf = NMF(n_components=rank, solver=SOLVER, init=init, random_state=RANDOM_STATE, max_iter=MAX_ITER)\n",
    "    nmf.fit_transform(doc_vectors)\n",
    "    errors[i] = nmf.reconstruction_err_\n",
    "    print(\"done.\")"
   ]
  },
  {
   "cell_type": "code",
   "execution_count": null,
   "metadata": {},
   "outputs": [
    {
     "data": {
      "image/png": "[encoded data removed]",
      "text/plain": [
       "<Figure size 640x480 with 1 Axes>"
      ]
     },
     "metadata": {},
     "output_type": "display_data"
    }
   ],
   "source": [
    "plt.plot(ranks, errors)\n",
    "plt.xlabel(\"NMF approximation rank\")\n",
    "plt.ylabel(\"reconstruction error\")\n",
    "plt.show()"
   ]
  },
  {
   "cell_type": "code",
   "execution_count": null,
   "metadata": {},
   "outputs": [],
   "source": []
  }
 ],
 "metadata": {
  "kernelspec": {
   "display_name": "Python 3.10.6 ('.venv': venv)",
   "language": "python",
   "name": "python3"
  },
  "language_info": {
   "codemirror_mode": {
    "name": "ipython",
    "version": 3
   },
   "file_extension": ".py",
   "mimetype": "text/x-python",
   "name": "python",
   "nbconvert_exporter": "python",
   "pygments_lexer": "ipython3",
   "version": "3.10.6 (main, Nov 14 2022, 16:10:14) [GCC 11.3.0]"
  },
  "orig_nbformat": 4,
  "vscode": {
   "interpreter": {
    "hash": "5b17febcc4130c68f2e7b85053bd8c8c27371546629f37a51ccc1ae40fbbf6be"
   }
  }
 },
 "nbformat": 4,
 "nbformat_minor": 2
}
